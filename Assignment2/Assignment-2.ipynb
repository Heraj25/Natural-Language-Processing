{
 "cells": [
  {
   "cell_type": "code",
   "execution_count": 1,
   "id": "9cd1f402",
   "metadata": {},
   "outputs": [],
   "source": [
    "from gensim.models import Word2Vec\n",
    "from gensim.test.utils import common_texts\n",
    "import gensim\n",
    "import pandas as pd"
   ]
  },
  {
   "cell_type": "code",
   "execution_count": 4,
   "id": "fb040029",
   "metadata": {},
   "outputs": [
    {
     "data": {
      "text/html": [
       "<div>\n",
       "<style scoped>\n",
       "    .dataframe tbody tr th:only-of-type {\n",
       "        vertical-align: middle;\n",
       "    }\n",
       "\n",
       "    .dataframe tbody tr th {\n",
       "        vertical-align: top;\n",
       "    }\n",
       "\n",
       "    .dataframe thead th {\n",
       "        text-align: right;\n",
       "    }\n",
       "</style>\n",
       "<table border=\"1\" class=\"dataframe\">\n",
       "  <thead>\n",
       "    <tr style=\"text-align: right;\">\n",
       "      <th></th>\n",
       "      <th>ytid          start_send_saudioset_positive_labels                                                                aspect_list                         caption                            author_idis_ba</th>\n",
       "    </tr>\n",
       "  </thead>\n",
       "  <tbody>\n",
       "    <tr>\n",
       "      <th>0</th>\n",
       "      <td>...</td>\n",
       "    </tr>\n",
       "    <tr>\n",
       "      <th>1</th>\n",
       "      <td>...</td>\n",
       "    </tr>\n",
       "    <tr>\n",
       "      <th>2</th>\n",
       "      <td>...</td>\n",
       "    </tr>\n",
       "    <tr>\n",
       "      <th>3</th>\n",
       "      <td>...</td>\n",
       "    </tr>\n",
       "    <tr>\n",
       "      <th>4</th>\n",
       "      <td>...</td>\n",
       "    </tr>\n",
       "  </tbody>\n",
       "</table>\n",
       "</div>"
      ],
      "text/plain": [
       "  ytid          start_send_saudioset_positive_labels                                                                aspect_list                         caption                            author_idis_ba\n",
       "0                                                ...                                                                                                                                                     \n",
       "1                                                ...                                                                                                                                                     \n",
       "2                                                ...                                                                                                                                                     \n",
       "3                                                ...                                                                                                                                                     \n",
       "4                                                ...                                                                                                                                                     "
      ]
     },
     "execution_count": 4,
     "metadata": {},
     "output_type": "execute_result"
    }
   ],
   "source": [
    "data = pd.read_table(r\"C:\\Users\\heraj\\OneDrive\\Desktop\\musiccaps.txt\")\n",
    "data.head()"
   ]
  },
  {
   "cell_type": "code",
   "execution_count": 5,
   "id": "1f38fcbe",
   "metadata": {},
   "outputs": [
    {
     "data": {
      "text/plain": [
       "(57257, 1)"
      ]
     },
     "execution_count": 5,
     "metadata": {},
     "output_type": "execute_result"
    }
   ],
   "source": [
    "data.shape"
   ]
  },
  {
   "cell_type": "markdown",
   "id": "4424416c",
   "metadata": {},
   "source": [
    "# Training the Word2Vec Model"
   ]
  },
  {
   "cell_type": "code",
   "execution_count": 6,
   "id": "e506bb09",
   "metadata": {},
   "outputs": [],
   "source": [
    "model = gensim.models.Word2Vec(data)"
   ]
  },
  {
   "cell_type": "code",
   "execution_count": 7,
   "id": "058255df",
   "metadata": {},
   "outputs": [],
   "source": [
    "model = Word2Vec(sentences=common_texts, vector_size=100, window=5, min_count=1, workers=4)\n",
    "model.save(\"word2vec.model\")"
   ]
  },
  {
   "cell_type": "code",
   "execution_count": 8,
   "id": "1ae6404c",
   "metadata": {},
   "outputs": [
    {
     "data": {
      "text/plain": [
       "(0, 199)"
      ]
     },
     "execution_count": 8,
     "metadata": {},
     "output_type": "execute_result"
    }
   ],
   "source": [
    "model = Word2Vec.load(\"word2vec.model\")\n",
    "model.train(data, total_examples=1, epochs=1)"
   ]
  },
  {
   "cell_type": "markdown",
   "id": "8a173543",
   "metadata": {},
   "source": [
    "Printing similiar words "
   ]
  },
  {
   "cell_type": "code",
   "execution_count": 9,
   "id": "2aa830bd",
   "metadata": {},
   "outputs": [
    {
     "data": {
      "text/plain": [
       "[('system', 0.21617139875888824),\n",
       " ('survey', 0.04468922317028046),\n",
       " ('interface', 0.015203381888568401),\n",
       " ('time', 0.0019510635174810886),\n",
       " ('trees', -0.03284316882491112),\n",
       " ('human', -0.07424270361661911),\n",
       " ('response', -0.09317591041326523),\n",
       " ('graph', -0.09575342386960983),\n",
       " ('eps', -0.10513808578252792),\n",
       " ('user', -0.16911619901657104)]"
      ]
     },
     "execution_count": 9,
     "metadata": {},
     "output_type": "execute_result"
    }
   ],
   "source": [
    "model.wv.most_similar('computer')\n"
   ]
  },
  {
   "cell_type": "code",
   "execution_count": 10,
   "id": "69aad926",
   "metadata": {},
   "outputs": [
    {
     "data": {
      "text/plain": [
       "0.041303005"
      ]
     },
     "execution_count": 10,
     "metadata": {},
     "output_type": "execute_result"
    }
   ],
   "source": [
    "model.wv.similarity(w1=\"human\", w2=\"user\")"
   ]
  },
  {
   "cell_type": "code",
   "execution_count": null,
   "id": "5e18add1",
   "metadata": {},
   "outputs": [],
   "source": []
  },
  {
   "cell_type": "code",
   "execution_count": 11,
   "id": "87e6d5a0",
   "metadata": {},
   "outputs": [
    {
     "data": {
      "text/plain": [
       "array([-5.3622725e-04,  2.3643136e-04,  5.1033497e-03,  9.0092728e-03,\n",
       "       -9.3029495e-03, -7.1168090e-03,  6.4588725e-03,  8.9729885e-03,\n",
       "       -5.0154282e-03, -3.7633716e-03,  7.3805046e-03, -1.5334714e-03,\n",
       "       -4.5366134e-03,  6.5540518e-03, -4.8601604e-03, -1.8160177e-03,\n",
       "        2.8765798e-03,  9.9187379e-04, -8.2852151e-03, -9.4488179e-03,\n",
       "        7.3117660e-03,  5.0702621e-03,  6.7576934e-03,  7.6286553e-04,\n",
       "        6.3508903e-03, -3.4053659e-03, -9.4640139e-04,  5.7685734e-03,\n",
       "       -7.5216377e-03, -3.9361035e-03, -7.5115822e-03, -9.3004224e-04,\n",
       "        9.5381187e-03, -7.3191668e-03, -2.3337686e-03, -1.9377411e-03,\n",
       "        8.0774371e-03, -5.9308959e-03,  4.5162440e-05, -4.7537340e-03,\n",
       "       -9.6035507e-03,  5.0072931e-03, -8.7595852e-03, -4.3918253e-03,\n",
       "       -3.5099984e-05, -2.9618145e-04, -7.6612402e-03,  9.6147433e-03,\n",
       "        4.9820580e-03,  9.2331432e-03, -8.1579173e-03,  4.4957981e-03,\n",
       "       -4.1370760e-03,  8.2453608e-04,  8.4986202e-03, -4.4621765e-03,\n",
       "        4.5175003e-03, -6.7869602e-03, -3.5484887e-03,  9.3985079e-03,\n",
       "       -1.5776526e-03,  3.2137157e-04, -4.1406299e-03, -7.6826881e-03,\n",
       "       -1.5080082e-03,  2.4697948e-03, -8.8802696e-04,  5.5336617e-03,\n",
       "       -2.7429771e-03,  2.2600652e-03,  5.4557943e-03,  8.3459532e-03,\n",
       "       -1.4537406e-03, -9.2081428e-03,  4.3705525e-03,  5.7178497e-04,\n",
       "        7.4419081e-03, -8.1328274e-04, -2.6384138e-03, -8.7530091e-03,\n",
       "       -8.5655687e-04,  2.8265631e-03,  5.4014288e-03,  7.0526563e-03,\n",
       "       -5.7031214e-03,  1.8588197e-03,  6.0888636e-03, -4.7980510e-03,\n",
       "       -3.1072604e-03,  6.7976294e-03,  1.6314756e-03,  1.8991709e-04,\n",
       "        3.4736372e-03,  2.1777749e-04,  9.6188262e-03,  5.0606038e-03,\n",
       "       -8.9173904e-03, -7.0415605e-03,  9.0145587e-04,  6.3925339e-03],\n",
       "      dtype=float32)"
      ]
     },
     "execution_count": 11,
     "metadata": {},
     "output_type": "execute_result"
    }
   ],
   "source": [
    "model.wv.get_vector('system')"
   ]
  },
  {
   "cell_type": "code",
   "execution_count": 12,
   "id": "c55ffab0",
   "metadata": {},
   "outputs": [
    {
     "data": {
      "text/plain": [
       "array([ 9.7702928e-03,  8.1651136e-03,  1.2809718e-03,  5.0975787e-03,\n",
       "        1.4081288e-03, -6.4551616e-03, -1.4280510e-03,  6.4491653e-03,\n",
       "       -4.6173059e-03, -3.9930656e-03,  4.9244044e-03,  2.7130984e-03,\n",
       "       -1.8479753e-03, -2.8769434e-03,  6.0107317e-03, -5.7167388e-03,\n",
       "       -3.2367026e-03, -6.4878250e-03, -4.2346325e-03, -8.5809948e-03,\n",
       "       -4.4697891e-03, -8.5112294e-03,  1.4037776e-03, -8.6181965e-03,\n",
       "       -9.9166557e-03, -8.2016252e-03, -6.7726658e-03,  6.6805850e-03,\n",
       "        3.7845564e-03,  3.5616636e-04, -2.9579818e-03, -7.4283206e-03,\n",
       "        5.3341867e-04,  4.9989222e-04,  1.9561886e-04,  8.5259555e-04,\n",
       "        7.8633073e-04, -6.8160298e-05, -8.0070542e-03, -5.8702733e-03,\n",
       "       -8.3829118e-03, -1.3120425e-03,  1.8206370e-03,  7.4171280e-03,\n",
       "       -1.9634271e-03, -2.3252917e-03,  9.4871549e-03,  7.9704521e-05,\n",
       "       -2.4045217e-03,  8.6048469e-03,  2.6870037e-03, -5.3439722e-03,\n",
       "        6.5881060e-03,  4.5101536e-03, -7.0544672e-03, -3.2317400e-04,\n",
       "        8.3448651e-04,  5.7473574e-03, -1.7176545e-03, -2.8065301e-03,\n",
       "        1.7484308e-03,  8.4717153e-04,  1.1928272e-03, -2.6342822e-03,\n",
       "       -5.9857843e-03,  7.3229838e-03,  7.5873756e-03,  8.2963575e-03,\n",
       "       -8.5988473e-03,  2.6364254e-03, -3.5599626e-03,  9.6204039e-03,\n",
       "        2.9037679e-03,  4.6411133e-03,  2.3856151e-03,  6.6084778e-03,\n",
       "       -5.7432903e-03,  7.8944126e-03, -2.4109220e-03, -4.5618857e-03,\n",
       "       -2.0609903e-03,  9.7335577e-03, -6.8565905e-03, -2.1917201e-03,\n",
       "        7.0009995e-03, -5.5749417e-05, -6.2949671e-03, -6.3935257e-03,\n",
       "        8.9403950e-03,  6.4295758e-03,  4.7735930e-03, -3.2620477e-03,\n",
       "       -9.2676198e-03,  3.7868882e-03,  7.1605504e-03, -5.6328895e-03,\n",
       "       -7.8650126e-03, -2.9727400e-03, -4.9318983e-03, -2.3151112e-03],\n",
       "      dtype=float32)"
      ]
     },
     "execution_count": 12,
     "metadata": {},
     "output_type": "execute_result"
    }
   ],
   "source": [
    "model.wv.get_vector('human')"
   ]
  },
  {
   "cell_type": "code",
   "execution_count": 13,
   "id": "67fe32ce",
   "metadata": {},
   "outputs": [
    {
     "data": {
      "text/plain": [
       "array([[-5.3622725e-04,  2.3643136e-04,  5.1033497e-03, ...,\n",
       "        -7.0415605e-03,  9.0145587e-04,  6.3925339e-03],\n",
       "       [-8.6196875e-03,  3.6657380e-03,  5.1898835e-03, ...,\n",
       "        -2.3915148e-03, -9.5100943e-03,  4.5058788e-03],\n",
       "       [ 9.4563962e-05,  3.0773198e-03, -6.8126451e-03, ...,\n",
       "         5.1259040e-04,  8.2130842e-03, -7.0190406e-03],\n",
       "       ...,\n",
       "       [-5.1577436e-03, -6.6702785e-03, -7.7790986e-03, ...,\n",
       "         5.8376994e-03,  9.3939463e-03,  3.5079459e-03],\n",
       "       [ 7.0871473e-03, -1.5683770e-03,  7.9461383e-03, ...,\n",
       "        -5.4809595e-03,  3.8159827e-03, -8.1130695e-03],\n",
       "       [ 9.7702928e-03,  8.1651136e-03,  1.2809718e-03, ...,\n",
       "        -2.9727400e-03, -4.9318983e-03, -2.3151112e-03]], dtype=float32)"
      ]
     },
     "execution_count": 13,
     "metadata": {},
     "output_type": "execute_result"
    }
   ],
   "source": [
    "model.wv.vectors"
   ]
  },
  {
   "cell_type": "code",
   "execution_count": 14,
   "id": "63f1ac2d",
   "metadata": {},
   "outputs": [],
   "source": [
    "model.save('word2vec.model')"
   ]
  }
 ],
 "metadata": {
  "kernelspec": {
   "display_name": "Python 3 (ipykernel)",
   "language": "python",
   "name": "python3"
  },
  "language_info": {
   "codemirror_mode": {
    "name": "ipython",
    "version": 3
   },
   "file_extension": ".py",
   "mimetype": "text/x-python",
   "name": "python",
   "nbconvert_exporter": "python",
   "pygments_lexer": "ipython3",
   "version": "3.11.1"
  }
 },
 "nbformat": 4,
 "nbformat_minor": 5
}
